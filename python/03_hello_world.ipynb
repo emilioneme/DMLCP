{
 "cells": [
  {
   "cell_type": "markdown",
   "metadata": {},
   "source": [
    "# Training a simple model on the MNIST dataset\n",
    "\n",
    "In this notebook we are going to get familiar with using a deep learning library like Tensorflow to train a simple neural network. The network will be trained on the [MNIST dataset](http://yann.lecun.com/exdb/mnist/) which contains small images of handwritten numerical digits. By the end of this training, the model should be able to accurately classify images with numerical digits.\n",
    "\n",
    "Training a network on the MNIST dataset has become the 'hello world' of machine learning. \n",
    "\n",
    "The following is based on a notebook (see [here](https://github.com/fchollet/deep-learning-with-python-notebooks/tree/master)) originally by [François Chollet](https://twitter.com/fchollet), the creator of [Keras](https://keras.io/) a high-level neural network library that has been integrated into TensorFlow (lower level).\n",
    "\n",
    "## Jupyter (Locally)\n",
    "\n",
    "The recommended way is to clone the whole repo. You will need `tensorflow` and `matplotlib` installed. The same commands can be used as for Google Colab below, except in a terminal pointing to the repository, and without the leading `!`.\n",
    "\n",
    "## Google Colab: Two Workflows\n",
    "\n",
    "### 1. Clone the repo inside your Google Drive\n",
    "\n",
    "For this, you need to mount your drive to the machine, like so:\n",
    "\n",
    "```python\n",
    "from google.colab import drive\n",
    "drive.mount('/content/drive')\n",
    "\n",
    "# change directory using the os module\n",
    "import os\n",
    "os.chdir('drive/My Drive/')\n",
    "os.listdir()             # shows the contents of the current dir, you can use chdir again after that\n",
    "# os.mkdir(\"DMLAP-2023\") # creating a directory\n",
    "# os.chdir(\"DMLAP-2023\") # moving to this directory\n",
    "# os.getcwd()            # printing the current directory\n",
    "```\n",
    "\n",
    "You can use git in Colab:\n",
    "```python\n",
    "!git clone https://github.com/jchwenger/DMLAP\n",
    "```\n",
    "\n",
    "To pull updates from the upstream repository without losing your work:\n",
    "```python\n",
    "!git stash     # temporary stashing away your changes\n",
    "!git pull      # importing the update from github\n",
    "!git stash pop # reimporting your changes, deleting the stash\n",
    "```\n",
    "\n",
    "### 2. Using this notebook as a standalone file\n",
    "\n",
    "On Google Colab you will need to download things:\n",
    "\n",
    "```python\n",
    "!wget https://raw.githubusercontent.com/jchwenger/DMLAP/main/python/images.zip # Get required image files\n",
    "!unzip images.zip\n",
    "```\n",
    "\n",
    "But to use the model created by this notebook in another notebook, you will need to either manually download/upload the model file (top left bar has a file explorer), or setup your notebook to mount (= connect to) a Google drive (using the code above).\n",
    "\n",
    "See [this notebook](https://colab.research.google.com/notebooks/io.ipynb), and [Working With Files](https://realpython.com/working-with-files-in-python/) on Real Python.\n",
    "\n",
    "\n",
    "## Imports"
   ]
  },
  {
   "cell_type": "code",
   "execution_count": 1,
   "metadata": {},
   "outputs": [],
   "source": [
    "import numpy as np\n",
    "import tensorflow as tf\n",
    "import matplotlib.pyplot as plt"
   ]
  },
  {
   "cell_type": "markdown",
   "metadata": {
    "tags": []
   },
   "source": [
    "## Data processing: walkthrough\n",
    "\n",
    "MNIST contains images of single digits, so 10 classes, from 0 to 9.\n",
    "\n",
    "All images are 28 by 28 pixels, black and white (1 channel)."
   ]
  },
  {
   "cell_type": "code",
   "execution_count": 2,
   "metadata": {},
   "outputs": [],
   "source": [
    "# Model / data parameters\n",
    "NUM_CLASSES = 10\n",
    "INPUT_SHAPE = (28*28,) # for a fully connected net, our image is just one array"
   ]
  },
  {
   "cell_type": "code",
   "execution_count": 4,
   "metadata": {},
   "outputs": [],
   "source": [
    "# Load the data and split it between train and test sets\n",
    "(train_images, train_labels), (test_images, test_labels) = tf.keras.datasets.mnist.load_data()"
   ]
  },
  {
   "cell_type": "markdown",
   "metadata": {
    "tags": []
   },
   "source": [
    "Why do we split our data like this? That is because we want to see how well our model performs on data *it was not trained on* (the test set)!\n",
    "\n",
    "### A look at our data"
   ]
  },
  {
   "cell_type": "code",
   "execution_count": 19,
   "metadata": {},
   "outputs": [
    {
     "name": "stdout",
     "output_type": "stream",
     "text": [
      "(60000, 28, 28) uint8\n",
      "(60000,)\n"
     ]
    }
   ],
   "source": [
    "print(train_images.shape, train_images.dtype)\n",
    "print(train_labels.shape)"
   ]
  },
  {
   "cell_type": "code",
   "execution_count": 12,
   "metadata": {},
   "outputs": [
    {
     "name": "stdout",
     "output_type": "stream",
     "text": [
      "This should be a 7\n",
      "\n",
      "[[  0   0   0   0   0   0   0   0   0   0   0   0   0   0   0   0   0   0   0   0   0   0   0   0   0   0   0   0]\n",
      " [  0   0   0   0   0   0   0   0   0   0   0   0   0   0   0   0   0   0   0   0   0   0   0   0   0   0   0   0]\n",
      " [  0   0   0   0   0   0   0   0   0   0   0   0   0   0   0   0   0   0   0   0   0   0   0   0   0   0   0   0]\n",
      " [  0   0   0   0   0   0   0   0   0   0   0   0   0   0   0   0   0   0   0   0   0   0   0   0   0   0   0   0]\n",
      " [  0   0   0   0   0   0   0   0   0   0   0   0   0   0   0   0   0   0   0   0   0   0   0   0   0   0   0   0]\n",
      " [  0   0   0   0   0   0   0   0   0   0   0   0   0   0   0   0   0   0   0   0   0   0   0   0   0   0   0   0]\n",
      " [  0   0   0   0   0   0   0   0   0   0   0   0   0   0   0   0   0   0   0   0   0   0   0   0   0   0   0   0]\n",
      " [  0   0   0   0   0   0  84 185 159 151  60  36   0   0   0   0   0   0   0   0   0   0   0   0   0   0   0   0]\n",
      " [  0   0   0   0   0   0 222 254 254 254 254 241 198 198 198 198 198 198 198 198 170  52   0   0   0   0   0   0]\n",
      " [  0   0   0   0   0   0  67 114  72 114 163 227 254 225 254 254 254 250 229 254 254 140   0   0   0   0   0   0]\n",
      " [  0   0   0   0   0   0   0   0   0   0   0  17  66  14  67  67  67  59  21 236 254 106   0   0   0   0   0   0]\n",
      " [  0   0   0   0   0   0   0   0   0   0   0   0   0   0   0   0   0   0  83 253 209  18   0   0   0   0   0   0]\n",
      " [  0   0   0   0   0   0   0   0   0   0   0   0   0   0   0   0   0  22 233 255  83   0   0   0   0   0   0   0]\n",
      " [  0   0   0   0   0   0   0   0   0   0   0   0   0   0   0   0   0 129 254 238  44   0   0   0   0   0   0   0]\n",
      " [  0   0   0   0   0   0   0   0   0   0   0   0   0   0   0   0  59 249 254  62   0   0   0   0   0   0   0   0]\n",
      " [  0   0   0   0   0   0   0   0   0   0   0   0   0   0   0   0 133 254 187   5   0   0   0   0   0   0   0   0]\n",
      " [  0   0   0   0   0   0   0   0   0   0   0   0   0   0   0   9 205 248  58   0   0   0   0   0   0   0   0   0]\n",
      " [  0   0   0   0   0   0   0   0   0   0   0   0   0   0   0 126 254 182   0   0   0   0   0   0   0   0   0   0]\n",
      " [  0   0   0   0   0   0   0   0   0   0   0   0   0   0  75 251 240  57   0   0   0   0   0   0   0   0   0   0]\n",
      " [  0   0   0   0   0   0   0   0   0   0   0   0   0  19 221 254 166   0   0   0   0   0   0   0   0   0   0   0]\n",
      " [  0   0   0   0   0   0   0   0   0   0   0   0   3 203 254 219  35   0   0   0   0   0   0   0   0   0   0   0]\n",
      " [  0   0   0   0   0   0   0   0   0   0   0   0  38 254 254  77   0   0   0   0   0   0   0   0   0   0   0   0]\n",
      " [  0   0   0   0   0   0   0   0   0   0   0  31 224 254 115   1   0   0   0   0   0   0   0   0   0   0   0   0]\n",
      " [  0   0   0   0   0   0   0   0   0   0   0 133 254 254  52   0   0   0   0   0   0   0   0   0   0   0   0   0]\n",
      " [  0   0   0   0   0   0   0   0   0   0  61 242 254 254  52   0   0   0   0   0   0   0   0   0   0   0   0   0]\n",
      " [  0   0   0   0   0   0   0   0   0   0 121 254 254 219  40   0   0   0   0   0   0   0   0   0   0   0   0   0]\n",
      " [  0   0   0   0   0   0   0   0   0   0 121 254 207  18   0   0   0   0   0   0   0   0   0   0   0   0   0   0]\n",
      " [  0   0   0   0   0   0   0   0   0   0   0   0   0   0   0   0   0   0   0   0   0   0   0   0   0   0   0   0]]\n"
     ]
    }
   ],
   "source": [
    "np.set_printoptions(linewidth=150) # prevent wrapping\n",
    "print(f\"This should be a {test_labels[0]}...\")\n",
    "print()\n",
    "print(test_images[0])"
   ]
  },
  {
   "cell_type": "code",
   "execution_count": 14,
   "metadata": {},
   "outputs": [
    {
     "data": {
      "image/png": "[encoded data removed]",
      "text/plain": [
       "<Figure size 640x480 with 1 Axes>"
      ]
     },
     "metadata": {},
     "output_type": "display_data"
    }
   ],
   "source": [
    "# We can also display the array as an image with matplotlib!\n",
    "plt.figure()\n",
    "plt.title(f\"Label: {test_labels[0]}\") # use the label in y_test\n",
    "plt.imshow(test_images[0], cmap='gray')\n",
    "plt.show()"
   ]
  },
  {
   "cell_type": "code",
   "execution_count": 15,
   "metadata": {},
   "outputs": [],
   "source": [
    "# Scale images to the [0, 1] range\n",
    "x_train = train_images.astype(\"float32\") / 255\n",
    "x_test = test_images.astype(\"float32\") / 255"
   ]
  },
  {
   "cell_type": "code",
   "execution_count": 20,
   "metadata": {},
   "outputs": [
    {
     "name": "stdout",
     "output_type": "stream",
     "text": [
      "(60000, 28, 28) float32\n",
      "Our range is now: 0.0 1.0\n"
     ]
    }
   ],
   "source": [
    "print(x_train.shape, x_train.dtype)\n",
    "print(\"Our range is now:\", x_train.min(), x_train.max())"
   ]
  },
  {
   "cell_type": "code",
   "execution_count": 21,
   "metadata": {},
   "outputs": [],
   "source": [
    "# Make sure the images have a shape of (28, 28, 1), with a channel dim at the end\n",
    "x_train = np.expand_dims(x_train, -1) # axis=-1: adding one axis in the last dimension\n",
    "x_test = np.expand_dims(x_test, -1)   # note: the same could be done using x_train[..., None] / x_train[..., np.newaxis]"
   ]
  },
  {
   "cell_type": "code",
   "execution_count": 24,
   "metadata": {},
   "outputs": [
    {
     "name": "stdout",
     "output_type": "stream",
     "text": [
      "x_train shape: (60000, 28, 28, 1)\n",
      "60000 train samples\n",
      "10000 test samples\n"
     ]
    }
   ],
   "source": [
    "print(\"x_train shape:\", x_train.shape)\n",
    "print(x_train.shape[0], \"train samples\")\n",
    "print(x_test.shape[0], \"test samples\")"
   ]
  },
  {
   "cell_type": "markdown",
   "metadata": {},
   "source": [
    "Here we use the [to_categorical util function](https://www.tensorflow.org/api_docs/python/tf/keras/utils/to_categorical) in Keras to transform our class numbers into 'probabilities' (one slot for each class, zero everywhere, a 1 at the *index* of the class)."
   ]
  },
  {
   "cell_type": "code",
   "execution_count": 25,
   "metadata": {},
   "outputs": [],
   "source": [
    "# convert class vectors to one-hot vectors\n",
    "y_train = tf.keras.utils.to_categorical(train_labels, NUM_CLASSES)\n",
    "y_test = tf.keras.utils.to_categorical(test_labels, NUM_CLASSES)"
   ]
  },
  {
   "cell_type": "code",
   "execution_count": 29,
   "metadata": {},
   "outputs": [
    {
     "name": "stdout",
     "output_type": "stream",
     "text": [
      "Before, we only had a number:\n",
      "5\n",
      "Now, we have a vector with n_classes slot, and a 1 in the right class:\n",
      "[0. 0. 0. 0. 0. 1. 0. 0. 0. 0.]\n"
     ]
    }
   ],
   "source": [
    "print(\"Before, we only had a number:\")\n",
    "print(train_labels[0])\n",
    "print(\"Now, we have a vector with n_classes slot, and a 1 in the right class:\")\n",
    "print(y_train[0])"
   ]
  },
  {
   "cell_type": "markdown",
   "metadata": {},
   "source": [
    "### Technical Note\n",
    "\n",
    "This transformation is related to how we design our system.\n",
    "\n",
    "The loss `categorical_cross_entropy` (see below), expects labels in this form.\n",
    "\n",
    "You could also keep your data as numbers, but then you need to tell Keras what to expect, and use the `sparse_categorical_cross_entropy`."
   ]
  },
  {
   "cell_type": "markdown",
   "metadata": {
    "tags": []
   },
   "source": [
    "## All the code in one cell"
   ]
  },
  {
   "cell_type": "code",
   "execution_count": 38,
   "metadata": {},
   "outputs": [
    {
     "name": "stdout",
     "output_type": "stream",
     "text": [
      "x_train shape: (60000, 784)\n",
      "60000 train samples\n",
      "10000 test samples\n"
     ]
    }
   ],
   "source": [
    "# Model / data parameters\n",
    "NUM_CLASSES = 10\n",
    "INPUT_SHAPE = (28*28,)\n",
    "\n",
    "# Load the data and split it between train and test sets\n",
    "(train_images, train_labels), (test_images, test_labels) = tf.keras.datasets.mnist.load_data()\n",
    "\n",
    "# Scale images to the [0, 1] range\n",
    "x_train = train_images.astype(\"float32\") / 255\n",
    "x_test = test_images.astype(\"float32\") / 255\n",
    "\n",
    "x_train = x_train.reshape(x_train.shape[0], -1) # this means \"first dim to 60'000, and one more dim, automatically calculated (28*28 = 784)\n",
    "x_test = x_test.reshape(x_test.shape[0], -1)\n",
    "\n",
    "print(\"x_train shape:\", x_train.shape)\n",
    "print(x_train.shape[0], \"train samples\")\n",
    "print(x_test.shape[0], \"test samples\")\n",
    "\n",
    "# convert class vectors to binary class matrices\n",
    "y_train = tf.keras.utils.to_categorical(train_labels, NUM_CLASSES)\n",
    "y_test = tf.keras.utils.to_categorical(test_labels, NUM_CLASSES) "
   ]
  },
  {
   "cell_type": "markdown",
   "metadata": {},
   "source": [
    "## Our Workflow\n",
    "\n",
    "1. **Model definition**: what kind of model do we want? Create a blueprint.\n",
    "2. **Compilation**: tell TF to build the model for us.\n",
    "3. **Test before training** (optional): how lousy are we before we start?\n",
    "4. **Training**: aka 'fitting' the model to the data\n",
    "5. **Testing**: how good are we now?\n",
    "\n",
    "## Model definition"
   ]
  },
  {
   "cell_type": "code",
   "execution_count": 8,
   "metadata": {},
   "outputs": [
    {
     "name": "stdout",
     "output_type": "stream",
     "text": [
      "Model: \"sequential_1\"\n",
      "_________________________________________________________________\n",
      " Layer (type)                Output Shape              Param #   \n",
      "=================================================================\n",
      " dense_3 (Dense)             (None, 512)               401920    \n",
      "                                                                 \n",
      " dense_4 (Dense)             (None, 64)                32832     \n",
      "                                                                 \n",
      " dense_5 (Dense)             (None, 3)                 195       \n",
      "                                                                 \n",
      "=================================================================\n",
      "Total params: 434947 (1.66 MB)\n",
      "Trainable params: 434947 (1.66 MB)\n",
      "Non-trainable params: 0 (0.00 Byte)\n",
      "_________________________________________________________________\n"
     ]
    }
   ],
   "source": [
    "# Sequential is a basic model type with layers stacked upon each other\n",
    "model = tf.keras.Sequential(\n",
    "    [\n",
    "        tf.keras.Input(shape=INPUT_SHAPE),        \n",
    "        tf.keras.layers.Dense(128, activation=\"relu\"),            # Dense means fully connected\n",
    "        tf.keras.layers.Dense(64, activation=\"relu\"),             # You can add more layers here, and change the number of units!\n",
    "        tf.keras.layers.Dense(   # IMPORTANT:\n",
    "            NUM_CLASSES,         # our last layer must have the same number of units as our classes and\n",
    "            activation=\"softmax\" # it needs the softmax activation to turn these into a probability distribution\n",
    "        ),\n",
    "    ]\n",
    ")\n",
    "\n",
    "model.summary() # 'None' means a variable dimension (here the batch size, that we can change!)"
   ]
  },
  {
   "cell_type": "markdown",
   "metadata": {},
   "source": [
    "## 2. Compilation\n",
    "\n",
    "The **loss** is how we measure how good our performance is. `categorical_crossentropy` means:\n",
    "- **categorical**: we are predicting one category in a set (classification)\n",
    "- **crossentropy**: in probability, the cross-entropy loss is a measure of how two probability distributions differ. It calculates the 'distance' between our predictions (a probability distribution) and our labels (*also* a probability distribution, with a 1 where the ground truth is, and zero everywhere else).\n",
    "\n",
    "The **optimizer** will take this loss, and change the parameters of the network in order to improve its preformance. The [Adam]() optimizer usually works well out of the box (although it requires a fair amount of memory). You can try different [optimizers](https://www.tensorflow.org/api_docs/python/tf/keras/optimizers) from the TF API."
   ]
  },
  {
   "cell_type": "code",
   "execution_count": 9,
   "metadata": {},
   "outputs": [],
   "source": [
    "# Here we are defining the loss function and the optimiser used for training.\n",
    "model.compile(\n",
    "    loss=\"categorical_crossentropy\", # if you use integers as labels, use sparse_categorical_crossentropy\n",
    "    optimizer=\"adam\",\n",
    "    metrics=[\"accuracy\"]\n",
    ")"
   ]
  },
  {
   "cell_type": "markdown",
   "metadata": {},
   "source": [
    "## 3. Before training: how good (bad) is our untrained model?"
   ]
  },
  {
   "cell_type": "code",
   "execution_count": 41,
   "metadata": {},
   "outputs": [
    {
     "name": "stdout",
     "output_type": "stream",
     "text": [
      "313/313 [==============================] - 2s 4ms/step - loss: 2.3161 - accuracy: 0.1070\n",
      "Test loss: 2.316080331802368\n",
      "Test accuracy: 0.10700000077486038\n"
     ]
    }
   ],
   "source": [
    "score = model.evaluate(x_test, y_test)\n",
    "\n",
    "print(f\"Test loss: {score[0]}\")\n",
    "print(f\"Test accuracy: {score[1]}\") # a number around .1 means \"about as random as it gets\"\n",
    "                                    # you'd expect .5 for a coin flip, and here our 'coin' has 10 faces/classes, so 1/10 chances"
   ]
  },
  {
   "cell_type": "markdown",
   "metadata": {},
   "source": [
    "## 4. Training!\n",
    "\n",
    "There are two parameters we need to define, the `batch_size` and the number of `epochs`.\n",
    "\n",
    "The number of `epochs` defines how many iterations we perform over the dataset over training. The more epochs in training we perform, the longer training is going to take, but it often (but not always) leads to better performance.\n",
    "\n",
    "The `batch_size` defines how many data samples we process in parallel during training, this helps speed up training if we use a bigger batch size (but is dependent on the size of the memory of our computer). Using a higher batch size generally leads to better results training, as the weights are updated based on the loss of the whole batch, which leads to more stable training than if we were to update the weights after each single example. Training in batches is a form of *regularisation* – something that will come up again and again with different tricks for getting the best performance out of training."
   ]
  },
  {
   "cell_type": "code",
   "execution_count": 42,
   "metadata": {},
   "outputs": [
    {
     "name": "stdout",
     "output_type": "stream",
     "text": [
      "Epoch 1/5\n",
      "3375/3375 [==============================] - 18s 5ms/step - loss: 0.1985 - accuracy: 0.9402 - val_loss: 0.0914 - val_accuracy: 0.9707\n",
      "Epoch 2/5\n",
      "3375/3375 [==============================] - 19s 6ms/step - loss: 0.0879 - accuracy: 0.9729 - val_loss: 0.0897 - val_accuracy: 0.9730\n",
      "Epoch 3/5\n",
      "3375/3375 [==============================] - 19s 6ms/step - loss: 0.0604 - accuracy: 0.9803 - val_loss: 0.0732 - val_accuracy: 0.9797\n",
      "Epoch 4/5\n",
      "3375/3375 [==============================] - 18s 5ms/step - loss: 0.0454 - accuracy: 0.9855 - val_loss: 0.0791 - val_accuracy: 0.9793\n",
      "Epoch 5/5\n",
      "3375/3375 [==============================] - 18s 5ms/step - loss: 0.0361 - accuracy: 0.9887 - val_loss: 0.0800 - val_accuracy: 0.9805\n"
     ]
    }
   ],
   "source": [
    "batch_size = 16 # depending on your memory, you can push that further up, 32, 64, 128, 256...\n",
    "epochs = 5\n",
    "\n",
    "history = model.fit( # in Keras, 'fitting' is used as a word for 'training'\n",
    "    x_train,\n",
    "    y_train,\n",
    "    batch_size=batch_size,\n",
    "    epochs=epochs,\n",
    "    validation_split=0.1\n",
    ")"
   ]
  },
  {
   "cell_type": "markdown",
   "metadata": {},
   "source": [
    "### Note: history & plotting\n",
    "\n",
    "The `history` object contains all the data printed above in a dictionary (`history.history`), that can be plotted to see how the training went. For more, look at the bottom of this notebook."
   ]
  },
  {
   "cell_type": "markdown",
   "metadata": {},
   "source": [
    "## 5. After training: evaluating again (for real)"
   ]
  },
  {
   "cell_type": "code",
   "execution_count": 43,
   "metadata": {},
   "outputs": [
    {
     "name": "stdout",
     "output_type": "stream",
     "text": [
      "Test loss: 0.08688478171825409\n",
      "Test accuracy: 0.977400004863739\n"
     ]
    }
   ],
   "source": [
    "score = model.evaluate(x_test, y_test, verbose=0)\n",
    "\n",
    "print(f\"Test loss: {score[0]}\")     # much, *much* lower than before!\n",
    "print(f\"Test accuracy: {score[1]}\") # much, *much* better than before!"
   ]
  },
  {
   "cell_type": "markdown",
   "metadata": {},
   "source": [
    "## Using our model (with an actual input image)\n",
    "\n",
    "If you are working on this just as a standalone notebook, you need to download the images first:\n",
    "\n",
    "```python\n",
    "!curl -O https://raw.githubusercontent.com/jchwenger/DMLAP/main/python/images.zip\n",
    "!unzip -o images.zip\n",
    "\n",
    "```"
   ]
  },
  {
   "cell_type": "code",
   "execution_count": 48,
   "metadata": {},
   "outputs": [
    {
     "name": "stdout",
     "output_type": "stream",
     "text": [
      "(28, 28, 1)\n",
      "(1, 784)\n",
      "Our predictions (shape (1, 10))\n",
      "[[4.2522328e-24 1.5362029e-15 1.0222842e-11 1.0000000e+00 1.7388587e-25 4.3128601e-15 7.5097124e-30 6.6686762e-14 4.9868095e-15 3.7398483e-17]]\n"
     ]
    }
   ],
   "source": [
    "img = tf.keras.preprocessing.image.load_img('images/number3.png', target_size=(28, 28), color_mode='grayscale') # try also images/4.png\n",
    "x = tf.keras.preprocessing.image.img_to_array(img) / 255\n",
    "x = x.reshape(1, 28 * 28) # reshape to (1, 784)\n",
    "print(x.shape)\n",
    "\n",
    "predictions = model.predict(x, verbose=False)\n",
    "print(f\"Our predictions (shape {predictions.shape})\")\n",
    "print(predictions)"
   ]
  },
  {
   "cell_type": "markdown",
   "metadata": {},
   "source": [
    "We can plot our predictions using a [bar chart](https://matplotlib.org/stable/api/_as_gen/matplotlib.pyplot.bar.html) (sometimes the net is so confident that you will really see just one bar, the other numbers being so small!)"
   ]
  },
  {
   "cell_type": "code",
   "execution_count": 45,
   "metadata": {},
   "outputs": [
    {
     "data": {
      "image/png": "[encoded data removed]",
      "text/plain": [
       "<Figure size 640x480 with 1 Axes>"
      ]
     },
     "metadata": {},
     "output_type": "display_data"
    }
   ],
   "source": [
    "plt.figure()\n",
    "plt.title(\"Predictions\")\n",
    "xs = np.arange(predictions.shape[-1])   # 0 to 9 for xs, our ys are our predictions\n",
    "plt.bar(xs, predictions[0])             # a bar chart\n",
    "plt.xticks(xs)\n",
    "plt.show()"
   ]
  },
  {
   "cell_type": "code",
   "execution_count": 46,
   "metadata": {},
   "outputs": [
    {
     "data": {
      "image/png": "[encoded data removed]",
      "text/plain": [
       "<Figure size 640x480 with 1 Axes>"
      ]
     },
     "metadata": {},
     "output_type": "display_data"
    }
   ],
   "source": [
    "# note that predictions is still *batched* (shape: (1,10)), we need to fetch the first array\n",
    "predicted = np.argmax(predictions[0]) # argmax: the *index* of the highest prediction\n",
    "\n",
    "plt.figure()\n",
    "plt.title(f'Predicted number: {predicted}') # use the predicted category in the title\n",
    "plt.imshow(img, cmap='gray')\n",
    "plt.show()"
   ]
  },
  {
   "cell_type": "markdown",
   "metadata": {},
   "source": [
    "### Saving the model\n",
    "\n",
    "This is where we save the trained model in the models folder to use it in the next notebook for more creative experimentations.\n",
    "\n",
    "```python\n",
    "model.save('./models/dense_mnist.keras')\n",
    "```\n",
    "\n",
    "To load a saved model, do this:\n",
    "\n",
    "```python\n",
    "model = tf.keras.models.load_model('models/dense_mnist.keras')\n",
    "```"
   ]
  },
  {
   "cell_type": "markdown",
   "metadata": {},
   "source": [
    "---\n",
    "\n",
    "## Next steps\n",
    "\n",
    "- Try and test your model with your own images of numbers (or pulled from the web)!\n",
    "- Try **Fashion MNIST** instead, which works exactly the same way, but with items of clothing instead of numbers! (Can you modify the `matplotlib` code to display the correct class name?)\n",
    "```python\n",
    "(train_images, train_labels), (test_images, test_labels) = tf.keras.datasets.fashion_mnist.load_data()\n",
    "# an array with the class names can be used for descriptions, (copied from the docs:\n",
    "# https://complex-valued-neural-networks.readthedocs.io/en/latest/code_examples/fashion_mnist.html#Import-the-Fashion-MNIST-dataset)\n",
    "class_names = ['T-shirt/top', 'Trouser', 'Pullover', 'Dress', 'Coat', 'Sandal', 'Shirt', 'Sneaker', 'Bag', 'Ankle boot']\n",
    "```"
   ]
  },
  {
   "cell_type": "markdown",
   "metadata": {},
   "source": [
    "---\n",
    "\n",
    "## Extra: plotting the history object\n",
    "\n",
    "Here's a function that allows you to plot data from your history object.\n",
    "\n",
    "```python\n",
    "def plot_history(history):\n",
    "    n_plots = 1 if \"accuracy\" in history.history.keys() else 2\n",
    "\n",
    "    fig, axes = plt.subplots(1, n_plots, figsize=(10,4))\n",
    "\n",
    "    # loss\n",
    "    axes[0].set_title(\"Loss\")\n",
    "    axes[0].plot(history.history[\"loss\"])\n",
    "    # if there\"s a val_loss, plot it in the same plot\n",
    "    if \"val_loss\" in history.history.keys():\n",
    "        axes[0].plot(history.history[\"val_loss\"])\n",
    "    \n",
    "    # accuracy\n",
    "    if n_plots == 2:\n",
    "        axes[1].set_title(\"Accuracy\")\n",
    "        axes[1].plot(history.history[\"accuracy\"])\n",
    "        # if there\"s a val_loss, plot it in the same plot\n",
    "        if \"val_accuracy\" in history.history.keys():\n",
    "            axes[1].plot(history.history[\"val_accuracy\"])\n",
    "        \n",
    "    plt.show()\n",
    "```"
   ]
  },
  {
   "cell_type": "markdown",
   "metadata": {},
   "source": [
    "---\n",
    "\n",
    "## Extra: a mini ConvNet\n",
    "\n",
    "For those who feel like exploring the Deep, here's how you would go about replacing the fully connected network above by a small ConvNet:\n",
    "\n",
    "A Convnet will not need images to be flattened, but it will need a channel dimension.\n",
    "\n",
    "1. Make sure your `INPUT_SHAPE` is correctly defined as (w, h, channels):\n",
    "\n",
    "```python\n",
    "# INPUT_SHAPE = (28*28,)\n",
    "INPUT_SHAPE = (28, 28, 1) # (w, h, channels)\n",
    "```\n",
    "\n",
    "2. Make sure your `x_train` and `x_test` are now (batch_size, w, h, channels):\n",
    "\n",
    "```python\n",
    "# x_train = x_train.reshape(x_train.shape[0], -1) # this means \"first dim to 60'000, and one more dim, automatically calculated (28*28 = 784)\n",
    "# x_test = x_test.reshape(x_test.shape[0], -1)\n",
    "\n",
    "# Make sure images have shape (28, 28, 1)\n",
    "# Expand dimensions from (60000, 28, 28) to (60000, 28, 28, 1). \n",
    "x_train = np.expand_dims(x_train, axis=-1) # axis=-1: add one more (channel) axis after the last dimension\n",
    "x_test = np.expand_dims(x_test, axis=-1)\n",
    "```\n",
    "\n",
    "3. Change your model definition:\n",
    "\n",
    "```python\n",
    "model = tf.keras.Sequential(\n",
    "    [\n",
    "        tf.keras.Input(shape=INPUT_SHAPE),\n",
    "        tf.keras.layers.Conv2D(32, kernel_size=(3, 3), activation=\"relu\"), # convolutions and maxpooling\n",
    "        tf.keras.layers.MaxPooling2D(pool_size=(2, 2)),\n",
    "        tf.keras.layers.Conv2D(64, kernel_size=(3, 3), activation=\"relu\"),\n",
    "        tf.keras.layers.MaxPooling2D(pool_size=(2, 2)),\n",
    "        tf.keras.layers.Flatten(),                                         # flatten into one long array\n",
    "        tf.keras.layers.Dropout(0.5),                                      # randomly zero out half (0.5 = 50%) of our units, good for training!\n",
    "        tf.keras.layers.Dense(NUM_CLASSES, activation=\"softmax\"),          # fully connected layer outputting a probability distribution over classes\n",
    "    ]\n",
    ")\n",
    "```\n",
    "\n",
    "Voilà! And lastly:\n",
    "\n",
    "4. Whenever you load images, you must reshape them to be (1, 28, 28, 1) before feeding them to the model:\n",
    "\n",
    "```python\n",
    "x = image.img_to_array(img) / 255\n",
    "# x = x.reshape(1, 28 * 28) # reshape to (1, 784)\n",
    "x = np.expand_dims(x, 0) # reshape to (1, 28, 28, 1) (x[None, ...] would have worked as well)\n",
    "print(x.shape) # must be (1, 28, 28, 1)\n",
    "```\n",
    "\n",
    "5. Save with a different name:\n",
    "\n",
    "```python\n",
    "model.save('./models/convnet_mnist.keras')\n",
    "```\n",
    "\n",
    "## ConvNet notes\n",
    "\n",
    "- `kernel_size` defines your kernel, aka filter, by specifying the height and width of the matrix 'window' we slide over the image to detect features. Changing these sizes will affect the size of the next layer!\n",
    "- `MaxPooling` is also a process of sliding through the input, and at each step takes only the maximum value. This is used to downsample!\n",
    "- A deep CNN has convolutional layers stacked on top of each other. Each layer is made up of lots of different feature extractors, responding to different kinds of patterns. The output(s) of one layer becomes the input(s) to the next one.\n",
    "- The `Flatten` layer converts the data into a 1D array. We flatten the output of the convolutional layers (of shape `(batch_size, w, h, channels)`) to create a single long feature vector `(batch_size, features)`.\n",
    "- `Dropout` randomly sets input units to 0 with a frequency of rate at each step during training time, which helps prevent overfitting."
   ]
  },
  {
   "cell_type": "markdown",
   "metadata": {
    "tags": []
   },
   "source": [
    "---\n",
    "\n",
    "## Extra: Training on your own dataset!\n",
    "\n",
    "Provided that you have images in a folder like this:\n",
    "```bash\n",
    "main_directory/\n",
    "...class_a/\n",
    "......a_image_1.jpg\n",
    "......a_image_2.jpg\n",
    "...class_b/\n",
    "......b_image_1.jpg\n",
    "......b_image_2.jpg\n",
    "```\n",
    "\n",
    "You can then replace `(train_images, train_labels), (test_images, test_labels) = tf.keras.datasets.mnist.load_data()` by\n",
    "```python\n",
    "# Model / data parameters\n",
    "NUM_CLASSES = 3\n",
    "\n",
    "train_dataset, test_dataset = tf.keras.utils.image_dataset_from_directory(\n",
    "    \"datasets/custom_mnist\",\n",
    "    color_mode=\"grayscale\",\n",
    "    image_size=(28, 28),\n",
    "    validation_split=0.2,\n",
    "    subset=\"both\",\n",
    "    shuffle=True,\n",
    "    seed=42,\n",
    "    labels=\"inferred\",\n",
    "    batch_size=None,\n",
    ")\n",
    "\n",
    "def preprocess(x, y):\n",
    "    x = tf.reshape(tf.cast(x, tf.float32) / 255., INPUT_SHAPE)\n",
    "    y = tf.one_hot(tf.cast(y, tf.int32), NUM_CLASSES)\n",
    "    return x, y\n",
    "\n",
    "batch_size = 16\n",
    "\n",
    "# preprocess & batch\n",
    "train_dataset = train_dataset.map(preprocess).batch(batch_size)\n",
    "\n",
    "# split: 80% for partial_train, 20% for validation\n",
    "n = int(train_dataset.cardinality().numpy() * .8) \n",
    "partial_train_dataset = train_dataset.take(n)\n",
    "val_dataset = train_dataset.skip(n)\n",
    "test_dataset = test_dataset.map(preprocess).batch(batch_size)\n",
    "```\n",
    "\n",
    "See [the documentation](https://www.tensorflow.org/api_docs/python/tf/keras/utils/image_dataset_from_directory).\n",
    "\n",
    "You can then check the content of your dataset this way:\n",
    "\n",
    "```python\n",
    "for i, l in train_dataset.take(1):                     # Take just one batch\n",
    "    i, l = i[0], l[0]\n",
    "    print(i.shape, l)\n",
    "    plt.figure()                                       # We can also display the array as an image with matplotlib!\n",
    "    plt.title(f\"Label: {tf.argmax(l).numpy().item()}\") # convert one-hot back to an int with argmax\n",
    "    plt.imshow(tf.reshape(i, (28,28)), cmap='gray')    # reshape to 28*28 pixels\n",
    "    plt.show()    \n",
    "```\n",
    "\n",
    "The training no longer takes a `batch_size` argument, since we included this in the datasets themselves:\n",
    "```python\n",
    "epochs = 5\n",
    "\n",
    "history = model.fit(\n",
    "    partial_train_dataset,      # the train_dataset object provides both xs and ys\n",
    "    epochs=epochs,\n",
    "    validation_data=val_dataset # instead of a percentage, we provide the val_dataset\n",
    ")\n",
    "```\n",
    "\n",
    "You can then look at a random image and how the net predicts its class like so:\n",
    "\n",
    "```python\n",
    "for images, labels in test_dataset.take(1):\n",
    "    i, l = images[0], labels[0]\n",
    "    print(i.shape, l)\n",
    "    print(f\"Using our model:\")\n",
    "    preds = model.predict(images[:1]) # [:1] instead of [0] preserves the batch dimension!\n",
    "    top_pred = tf.argmax(preds[0]).numpy()\n",
    "    print(f\"Predictions: {preds[0]}, max at index: {top_pred}\")\n",
    "    # We can also display the array as an image with matplotlib!\n",
    "    plt.figure()\n",
    "    msg = f\"Label: {tf.argmax(l).numpy()} | Predicted: {top_pred}\"\n",
    "    plt.title(msg) # use the label in y_test\n",
    "    plt.imshow(tf.reshape(i, (28,28)), cmap='gray')\n",
    "    plt.show()    \n",
    "```"
   ]
  }
 ],
 "metadata": {
  "accelerator": "GPU",
  "kernelspec": {
   "display_name": "Python 3 (ipykernel)",
   "language": "python",
   "name": "python3"
  },
  "language_info": {
   "codemirror_mode": {
    "name": "ipython",
    "version": 3
   },
   "file_extension": ".py",
   "mimetype": "text/x-python",
   "name": "python",
   "nbconvert_exporter": "python",
   "pygments_lexer": "ipython3",
   "version": "3.11.5"
  },
  "vscode": {
   "interpreter": {
    "hash": "1c544d3133b9d8c6f36fca025551af31afa9ef134259e7064ad6be0c15e6401c"
   }
  }
 },
 "nbformat": 4,
 "nbformat_minor": 4
}
