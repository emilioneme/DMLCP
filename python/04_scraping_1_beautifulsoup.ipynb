{
  "nbformat": 4,
  "nbformat_minor": 0,
  "metadata": {
    "colab": {
      "provenance": []
    },
    "kernelspec": {
      "name": "python3",
      "display_name": "Python 3"
    },
    "language_info": {
      "name": "python"
    }
  },
  "cells": [
    {
      "cell_type": "markdown",
      "source": [
        "# Scraping I\n",
        "\n",
        "---\n",
        "\n",
        "## BeautifulSoup\n",
        "\n",
        "See the official [quickstart](https://www.crummy.com/software/BeautifulSoup/bs4/doc/#quick-start). And [this tutorial](https://realpython.com/beautiful-soup-web-scraper-python/).\n",
        "\n",
        "If you need to load/save to your drive:\n",
        "\n",
        "```python\n",
        "import sys\n",
        "if 'google.colab' in sys.modules:\n",
        "    from google.colab import drive\n",
        "    drive.mount('/content/drive/')\n",
        "\n",
        "import os\n",
        "os.chdir('drive/My Drive/2023-DMLAP/notebooks/scraping') # change to your directory\n",
        "```"
      ],
      "metadata": {
        "id": "9i6LqS2cvMjF"
      }
    },
    {
      "cell_type": "code",
      "execution_count": null,
      "metadata": {
        "id": "DyF273kVvJtn"
      },
      "outputs": [],
      "source": [
        "from bs4 import BeautifulSoup"
      ]
    },
    {
      "cell_type": "code",
      "source": [
        "html_doc = \"\"\"<html><head><title>The Dormouse's story</title></head>\n",
        "<body>\n",
        "<p class=\"title\"><b>The Dormouse's story</b></p>\n",
        "\n",
        "<p class=\"story\">Once upon a time there were three little sisters; and their names were\n",
        "<a href=\"http://example.com/elsie\" class=\"sister\" id=\"link1\">Elsie</a>,\n",
        "<a href=\"http://example.com/lacie\" class=\"sister\" id=\"link2\">Lacie</a> and\n",
        "<a href=\"http://example.com/tillie\" class=\"sister\" id=\"link3\">Tillie</a>;\n",
        "and they lived at the bottom of a well.</p>\n",
        "\n",
        "<p class=\"story\">...</p>\n",
        "\"\"\""
      ],
      "metadata": {
        "id": "n45WMRklvL7a"
      },
      "execution_count": null,
      "outputs": []
    },
    {
      "cell_type": "code",
      "source": [
        "soup = BeautifulSoup(html_doc, 'html.parser')\n",
        "print(soup.prettify())"
      ],
      "metadata": {
        "id": "pfeoUgSDvu_v"
      },
      "execution_count": null,
      "outputs": []
    },
    {
      "cell_type": "markdown",
      "source": [
        "Render straight into the notebook!"
      ],
      "metadata": {
        "id": "zB51ZcCywNaG"
      }
    },
    {
      "cell_type": "code",
      "source": [
        "import IPython # https://stackoverflow.com/a/55329863\n",
        "IPython.display.HTML(soup.prettify())"
      ],
      "metadata": {
        "id": "KqjLFPIwv-iE"
      },
      "execution_count": null,
      "outputs": []
    },
    {
      "cell_type": "markdown",
      "source": [
        "Now we can programmatically navigate the webpage."
      ],
      "metadata": {
        "id": "zwv5VnpZwdQa"
      }
    },
    {
      "cell_type": "code",
      "source": [
        "soup.title"
      ],
      "metadata": {
        "id": "02wyZW3gwWr9"
      },
      "execution_count": null,
      "outputs": []
    },
    {
      "cell_type": "code",
      "source": [
        "soup.title.name"
      ],
      "metadata": {
        "id": "3dDtZ5h1wY4j"
      },
      "execution_count": null,
      "outputs": []
    },
    {
      "cell_type": "code",
      "source": [
        "soup.title.string"
      ],
      "metadata": {
        "id": "pOxWtDjhwZ9y"
      },
      "execution_count": null,
      "outputs": []
    },
    {
      "cell_type": "code",
      "source": [
        "soup.title.parent.name"
      ],
      "metadata": {
        "id": "U6kkgJ3iwa7d"
      },
      "execution_count": null,
      "outputs": []
    },
    {
      "cell_type": "code",
      "source": [
        "soup.p"
      ],
      "metadata": {
        "id": "mpMLvzMVwbuq"
      },
      "execution_count": null,
      "outputs": []
    },
    {
      "cell_type": "code",
      "source": [
        "soup.p['class']"
      ],
      "metadata": {
        "id": "-Mv_ifjRwq02"
      },
      "execution_count": null,
      "outputs": []
    },
    {
      "cell_type": "code",
      "source": [
        "soup.a"
      ],
      "metadata": {
        "id": "tE35oGAXwrVR"
      },
      "execution_count": null,
      "outputs": []
    },
    {
      "cell_type": "code",
      "source": [
        "soup.find_all('a') # also try 'p'"
      ],
      "metadata": {
        "id": "9P5z6ZzqwskK"
      },
      "execution_count": null,
      "outputs": []
    },
    {
      "cell_type": "code",
      "source": [
        "soup.find(id=\"link3\")"
      ],
      "metadata": {
        "id": "kBPhvnHbwyWI"
      },
      "execution_count": null,
      "outputs": []
    },
    {
      "cell_type": "markdown",
      "source": [
        "Extract links."
      ],
      "metadata": {
        "id": "uuu6Vqi7w095"
      }
    },
    {
      "cell_type": "code",
      "source": [
        "for link in soup.find_all('a'):\n",
        "    print(link.get('href'))"
      ],
      "metadata": {
        "id": "6xAQAKdXw1-W"
      },
      "execution_count": null,
      "outputs": []
    },
    {
      "cell_type": "markdown",
      "source": [
        "Extract only the text."
      ],
      "metadata": {
        "id": "zeO83E2hxE4G"
      }
    },
    {
      "cell_type": "code",
      "source": [
        "print(soup.get_text())"
      ],
      "metadata": {
        "id": "ZD1N-O1uxHiW"
      },
      "execution_count": null,
      "outputs": []
    },
    {
      "cell_type": "markdown",
      "source": [
        "If you wanted to save this text in Python, you would do:\n",
        "\n",
        "```python\n",
        "with open(\"dormhouse-story.txt\") as o: # open file object\n",
        "    o.write(soup.get_text())           # write the text\n",
        "```    \n",
        "\n",
        "Don't forget to read (or, more like, search for stuff in) the [documentation](https://www.crummy.com/software/BeautifulSoup/bs4/doc/#quick-start)! (Or ask ChatGPT...)"
      ],
      "metadata": {
        "id": "i8W8tMpnxOg8"
      }
    },
    {
      "cell_type": "markdown",
      "source": [
        "---\n",
        "\n",
        "## Important Note: Download Webpages in Python\n",
        "\n",
        "Above we had the html code at hand. But of course IRL we want to grab it from the web!\n",
        "\n",
        "For that we can use [requests](https://pypi.org/project/requests/).\n",
        "\n",
        "(See the [mentioned tutorial](https://realpython.com/beautiful-soup-web-scraper-python/#step-2-scrape-html-content-from-a-page).)\n",
        "\n",
        "In Colab it's already installed, otherwise (**in an environment!**):\n",
        "\n",
        "```bash\n",
        "pip install requests\n",
        "```"
      ],
      "metadata": {
        "id": "B2Uwu6Q4y6kp"
      }
    },
    {
      "cell_type": "code",
      "source": [
        "import requests"
      ],
      "metadata": {
        "id": "8zNWt0ErzlUn"
      },
      "execution_count": null,
      "outputs": []
    },
    {
      "cell_type": "code",
      "source": [
        "URL = \"https://en.wikipedia.org/wiki/Artificial_intelligence\"\n",
        "page = requests.get(URL)"
      ],
      "metadata": {
        "id": "H6KW6EhyznOu"
      },
      "execution_count": null,
      "outputs": []
    },
    {
      "cell_type": "code",
      "source": [
        "page # response 200 means OK"
      ],
      "metadata": {
        "id": "WBEcEUWO0GPC"
      },
      "execution_count": null,
      "outputs": []
    },
    {
      "cell_type": "code",
      "source": [
        "print(page.text)"
      ],
      "metadata": {
        "id": "ZGEnrFjR0KGi"
      },
      "execution_count": null,
      "outputs": []
    },
    {
      "cell_type": "markdown",
      "source": [
        "Like before, we can display the text."
      ],
      "metadata": {
        "id": "rh-TrXIf0jee"
      }
    },
    {
      "cell_type": "code",
      "source": [
        "IPython.display.HTML(page.text) # not sure why the images didn't get fetched"
      ],
      "metadata": {
        "id": "XEcLEOXT0PNi"
      },
      "execution_count": null,
      "outputs": []
    },
    {
      "cell_type": "markdown",
      "source": [
        "We can also do that with [urllib](https://docs.python.org/3/howto/urllib2.html)"
      ],
      "metadata": {
        "id": "Ihfg3brO06_S"
      }
    },
    {
      "cell_type": "code",
      "source": [
        "import urllib.request\n",
        "\n",
        "with urllib.request.urlopen(URL) as response:\n",
        "    html = response.read()"
      ],
      "metadata": {
        "id": "ZuMHsvMa06jC"
      },
      "execution_count": null,
      "outputs": []
    },
    {
      "cell_type": "code",
      "source": [
        "# IPython.display.HTML(html.decode()) # will print the page as before (with images!)"
      ],
      "metadata": {
        "id": "FXPPwnaf3oXa"
      },
      "execution_count": null,
      "outputs": []
    },
    {
      "cell_type": "markdown",
      "source": [
        "The main skill to have now in order to scrape successfully is, actually, [**html**](https://www.w3schools.com/html/)! That is, understand how webpages are constructed."
      ],
      "metadata": {
        "id": "s6dSpE9eIn15"
      }
    },
    {
      "cell_type": "markdown",
      "source": [
        "## Grab images\n",
        "\n",
        "Everything has to be done manually, trial and error.\n",
        "\n",
        "What we do:\n",
        "- We check all `img` tags, and get their `src`\n",
        "- We inspect the links, see if they work out of the box or not\n",
        "- We correct the links, and try and request their contents\n",
        "- We find the way to save that to files\n",
        "\n",
        "### Note: this process is error-prone and sometimes *painful*!\n",
        "\n",
        "Don't underestimate the time and learning you will need to do this, it's a huge chunk of the process."
      ],
      "metadata": {
        "id": "6sC0zZtq2lf2"
      }
    },
    {
      "cell_type": "code",
      "source": [
        "wiki_soup = BeautifulSoup(html) # works the same with page.content from earlier\n",
        "images_links = []\n",
        "for img in wiki_soup.find_all('img'):\n",
        "    # print(img)\n",
        "    images_links.append(img.get('src'))\n",
        "\n",
        "for i in images_links:\n",
        "    print(i)"
      ],
      "metadata": {
        "id": "WUvLxeL_1ovu"
      },
      "execution_count": null,
      "outputs": []
    },
    {
      "cell_type": "code",
      "source": [
        "import os\n",
        "d = 'scraped-images'\n",
        "os.mkdir(d)\n",
        "os.listdir()"
      ],
      "metadata": {
        "id": "XP5RKOi38uGg"
      },
      "execution_count": null,
      "outputs": []
    },
    {
      "cell_type": "code",
      "source": [
        "import time   # time module for pausing programme\n",
        "import shutil # OS module for saving a stream of bytes"
      ],
      "metadata": {
        "id": "cC4mDN964UXZ"
      },
      "execution_count": null,
      "outputs": []
    },
    {
      "cell_type": "markdown",
      "source": [
        "Helper functions."
      ],
      "metadata": {
        "id": "Wn4MWEGhEpQO"
      }
    },
    {
      "cell_type": "code",
      "source": [
        "def make_request(link):\n",
        "    r = requests.get(link, stream=True)\n",
        "    if r.status_code == 200:\n",
        "        # print('got it!')\n",
        "        return r\n",
        "    else:\n",
        "        # print('nope)\n",
        "        return None\n",
        "\n",
        "def make_filename(link):\n",
        "    idx = link.rfind('/') # find the last /\n",
        "    return link[idx+1:]"
      ],
      "metadata": {
        "id": "HLYbTPoY5VjK"
      },
      "execution_count": null,
      "outputs": []
    },
    {
      "cell_type": "code",
      "source": [
        "wiki_url = 'https://en.wikipedia.org'\n",
        "\n",
        "print('attempting to scrape:')\n",
        "for l in images_links:\n",
        "    print(f'- {l}')\n",
        "\n",
        "    if l.startswith('//'):                                   # two types of links, ones with //, used as is\n",
        "        l = l.replace('//', '') # remove the leading dash\n",
        "        l = f\"https://{l}\"\n",
        "        resp = make_request(l)\n",
        "    else:                                                    # ones requiring to add the leading wiki url\n",
        "        l = f\"{wiki_url}{l}\"\n",
        "        resp = make_request(l)\n",
        "\n",
        "    if resp is not None:                                     # if we got something\n",
        "        fname = make_filename(l)                             # get the filename\n",
        "        print(f'  attempting to save {fname}')\n",
        "        with open(os.path.join(d, fname), 'wb') as o:        # saving logic, see here: https://towardsdatascience.com/a-tutorial-on-scraping-images-from-the-web-using-beautifulsoup-206a7633e948\n",
        "            resp.raw.decode_content = True                   #                         https://stackoverflow.com/a/29328036\n",
        "            shutil.copyfileobj(resp.raw, o)                  #                         https://stackoverflow.com/a/13137873\n",
        "    else:\n",
        "        print(f'  could not retrieve this one')\n",
        "\n",
        "    time.sleep(1) # BE NICE, let the server breathe and space out your calls"
      ],
      "metadata": {
        "id": "NTcHH7vX3zcm"
      },
      "execution_count": null,
      "outputs": []
    },
    {
      "cell_type": "code",
      "source": [
        "from PIL import Image\n",
        "Image.open(os.path.join(d, 'wikipedia.png')) # display one of our downloaded images"
      ],
      "metadata": {
        "id": "ni5QiCtgE_Av"
      },
      "execution_count": null,
      "outputs": []
    },
    {
      "cell_type": "markdown",
      "source": [
        "---\n",
        "\n",
        "## Next steps\n",
        "\n",
        "BeautifulSoup will not be able to handle much interactivity in website (for example if you need to click on something to open the page). The next level for scraping is then to use a *headless browser* that you can automate (devilish, really).\n",
        "\n",
        "The tool for that is [Selenium](https://selenium-python.readthedocs.io/installation.html#installing-python-bindings-for-selenium). Note that you not only need to install the library, but also the *driver* that will pass on the commands to whichever browser you wish to use (Chrome, Chromium, Firefox, etc.) The website has an intro and tutorial."
      ],
      "metadata": {
        "id": "z53zwIv5HjSf"
      }
    }
  ]
}