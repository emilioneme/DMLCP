{
 "cells": [
  {
   "cell_type": "markdown",
   "metadata": {},
   "source": [
    "# Playing with MNIST\n",
    "\n",
    "This notebook expects you to have previously trained the MNIST model and saved the resulting file. "
   ]
  },
  {
   "cell_type": "markdown",
   "metadata": {},
   "source": [
    "## Canvas Installation: Two Workflows\n",
    "\n",
    "### 1. Jupyter (locally)\n",
    "\n",
    "The recommended way is to clone the repo, which contains `canvas.py`. Make sure you have [pycairo](https://anaconda.org/conda-forge/pycairo) installed:\n",
    "\n",
    "```bash\n",
    "conda activate dmlap\n",
    "conda install -c conda-forge pycairo\n",
    "```\n",
    "\n",
    "### 2. Google Colab\n",
    "\n",
    "When using Google Colab you will need to use `pip` and install additional libraries (based on [this](https://github.com/pygobject/pycairo/issues/39#issuecomment-391830334)):\n",
    "\n",
    "```bash\n",
    "# WARNING!!!! Do NOT do this if you are running jupyter/python locally!!!\n",
    "!apt-get install libcairo2-dev libjpeg-dev libgif-dev\n",
    "!pip install pycairo\n",
    "```\n",
    "\n",
    "#### 2.1 Working with the repo in your drive\n",
    "\n",
    "Mount your drive and change to the correct directory:\n",
    "\n",
    "```python\n",
    "from google.colab import drive\n",
    "drive.mount('/content/drive')\n",
    "\n",
    "# change directory using the os module\n",
    "import os\n",
    "os.chdir('drive/My Drive/')\n",
    "os.listdir()             # shows the contents of the current dir, you can use chdir again after that\n",
    "# os.mkdir(\"DMLAP-2023\") # creating a directory\n",
    "# os.chdir(\"DMLAP-2023\") # moving to this directory\n",
    "# os.getcwd()            # printing the current directory\n",
    "```\n",
    "\n",
    "See [this notebook](https://colab.research.google.com/notebooks/io.ipynb), and [Working With Files](https://realpython.com/working-with-files-in-python/) on Real Python.\n",
    "\n",
    "#### 2.2 Working on it as a standalone notebook\n",
    "\n",
    "Get the`canvas` module:\n",
    "\n",
    "```python\n",
    "!curl -O https://raw.githubusercontent.com/jchwenger/DMLAP/main/python/canvas.py\n",
    "```\n",
    "\n",
    "Download and unzip the necessary images with:\n",
    "\n",
    "```python\n",
    "!curl -O https://raw.githubusercontent.com/jchwenger/DMLAP/main/python/images.zip\n",
    "!unzip -o images.zip\n",
    "```"
   ]
  },
  {
   "cell_type": "code",
   "execution_count": 1,
   "metadata": {},
   "outputs": [],
   "source": [
    "import canvas\n",
    "import numpy as np\n",
    "import tensorflow as tf"
   ]
  },
  {
   "cell_type": "markdown",
   "metadata": {},
   "source": [
    "## Load a trained network"
   ]
  },
  {
   "cell_type": "code",
   "execution_count": 2,
   "metadata": {},
   "outputs": [
    {
     "name": "stdout",
     "output_type": "stream",
     "text": [
      "Model: \"sequential_1\"\n",
      "_________________________________________________________________\n",
      " Layer (type)                Output Shape              Param #   \n",
      "=================================================================\n",
      " dense_1 (Dense)             (None, 512)               401920    \n",
      "                                                                 \n",
      " dense_2 (Dense)             (None, 64)                32832     \n",
      "                                                                 \n",
      " dense_3 (Dense)             (None, 10)                650       \n",
      "                                                                 \n",
      "=================================================================\n",
      "Total params: 435402 (1.66 MB)\n",
      "Trainable params: 435402 (1.66 MB)\n",
      "Non-trainable params: 0 (0.00 Byte)\n",
      "_________________________________________________________________\n"
     ]
    }
   ],
   "source": [
    "model = tf.keras.models.load_model('./models/dense_mnist.keras')\n",
    "model.summary()"
   ]
  },
  {
   "cell_type": "markdown",
   "metadata": {},
   "source": [
    "## Classify an image of a number"
   ]
  },
  {
   "cell_type": "code",
   "execution_count": 3,
   "metadata": {},
   "outputs": [
    {
     "name": "stdout",
     "output_type": "stream",
     "text": [
      "Shape of x before processing: (28, 28, 1), dtype: float32\n"
     ]
    },
    {
     "data": {
      "image/png": "[encoded data removed]",
      "text/plain": [
       "<Figure size 640x480 with 1 Axes>"
      ]
     },
     "metadata": {},
     "output_type": "display_data"
    }
   ],
   "source": [
    "                                                   # try 4.png\n",
    "img = tf.keras.preprocessing.image.load_img('images/number3.png', target_size=(28, 28), color_mode='grayscale')\n",
    "\n",
    "# convert pixel values from [0,255] to [0,1]\n",
    "x = tf.keras.preprocessing.image.img_to_array(img) / 255\n",
    "\n",
    "print(f\"Shape of x before processing: {x.shape}, dtype: {x.dtype}\")\n",
    "\n",
    "# For a Dense net, we need (batch_size, 28*28=784)\n",
    "x = x.reshape(1, -1) # '-1' meaning \"deduce the last dim\", same as x.reshape(1, 28*28)\n",
    "\n",
    "# For a ConvNet, we need a shape of (batch_size, w, h, channels)\n",
    "# x = np.expand_dims(x, 0) # add a batch dim at the front, same as x[None, ...]\n",
    "\n",
    "predictions = model.predict(x, verbose=False)\n",
    "predicted = np.argmax(predictions[0])\n",
    "canvas.show_image(img, title=f'Predicted number: {predicted}', cmap='gray')"
   ]
  },
  {
   "cell_type": "markdown",
   "metadata": {},
   "source": [
    "## Two directions\n",
    "\n",
    "1. **disrupt**: try and find cases where the network fails to predict the images properly\n",
    "2. **generate**: come up with your own images and try to classify them! Combining the two, you can try to generate images that the network fails to classify!\n",
    "\n",
    "### Note: Dense vs ConvNet\n",
    "\n",
    "If you tried to train a ConvNet, you will notice that it tends to be more stable in its prediction!"
   ]
  },
  {
   "cell_type": "markdown",
   "metadata": {},
   "source": [
    "## 1. Disrupt\n",
    "\n",
    "Here we provide you with a canvas object that generates images with a number. You can see that a Dense net not always succeeds (and the ConvNet does)."
   ]
  },
  {
   "cell_type": "code",
   "execution_count": 4,
   "metadata": {},
   "outputs": [
    {
     "data": {
      "image/png": "[encoded data removed]",
      "text/plain": [
       "<Figure size 512x512 with 1 Axes>"
      ]
     },
     "metadata": {},
     "output_type": "display_data"
    }
   ],
   "source": [
    "# Generate a random number between 0 and 9 (the max is excluded)\n",
    "number = np.random.randint(0, 10) \n",
    "c = canvas.Canvas(28, 28)\n",
    "c.background(0)\n",
    "c.fill(255)\n",
    "c.text_size(26)\n",
    "c.text([c.width/2, c.height/2 + 9], str(number), center=True)\n",
    "x = c.get_image_grayscale()\n",
    "\n",
    "# For a Dense net\n",
    "x = x.reshape(1, -1) # same as reshape(1, 28*28)\n",
    "\n",
    "# # For a ConvNet:\n",
    "# x = x.reshape(1, 28, 28, 1) # batch, w, h, channels\n",
    "\n",
    "predictions = model.predict(x, verbose=False)\n",
    "# Get the index in the array with highest confidence, that will be our predicted number\n",
    "predicted = np.argmax(predictions[0])\n",
    "c.show(title=f'Predicted number: {predicted}', size=(512, 512))"
   ]
  },
  {
   "cell_type": "markdown",
   "metadata": {},
   "source": [
    "Disruption, first idea: how about we invert the colours? We do that by adding: `1.0 - c.get_image_grayscale()` (our pixel values lie between 0 and 1."
   ]
  },
  {
   "cell_type": "code",
   "execution_count": 5,
   "metadata": {},
   "outputs": [
    {
     "data": {
      "image/png": "[encoded data removed]",
      "text/plain": [
       "<Figure size 512x512 with 1 Axes>"
      ]
     },
     "metadata": {},
     "output_type": "display_data"
    }
   ],
   "source": [
    "number = np.random.randint(0, 10)\n",
    "c = canvas.Canvas(28, 28)\n",
    "c.background(255)\n",
    "c.fill(0)\n",
    "c.text_size(26)\n",
    "c.text([c.width/2, c.height/2 + 9], str(number), center=True)\n",
    "x = 1.0 - c.get_image_grayscale() # Inverted (note: this array has already values in [0,1], no need to divide by 255)\n",
    "\n",
    "# For a Dense net\n",
    "x = x.reshape(1, -1) # same as reshape(1, 28*28)\n",
    "\n",
    "# # For a ConvNet:\n",
    "# x = x.reshape(1, 28, 28, 1) # batch, w, h, channels\n",
    "\n",
    "predictions = model.predict(x, verbose=False)\n",
    "# Get the index in the array with highest confidence, that will be our predicted number\n",
    "predicted = np.argmax(predictions[0])\n",
    "c.show(title=f'Predicted number: {predicted}', size=(512, 512))"
   ]
  },
  {
   "cell_type": "markdown",
   "metadata": {},
   "source": [
    "### Ideas for exploration\n",
    "\n",
    "- Creatively disrupt the image, keeping it recognizable to a human, but causing the model to produce an incorrect prediction. You could add random dots, or patches, for instance. Or simply create an array of random numbers of the same size as the image and add it to the image.\n",
    "- Try to do this in steps, e.g. incrementally adding modifications to the image and observing when and how it stops being recongized by the model.\n",
    "- Briefly discuss the steps you are taking, taking advantage of the hybrid markdown/code format of the notebook.\n",
    "\n",
    "Make sure to display the images you are creaating!\n",
    "\n",
    "You may want to work with the `Canvas` object directly, using some tools demonstrated in the relevant notebook, in which case you should keep in mind that you are only producing grayscale images and that the images have size 28x28.\n",
    "\n",
    "Otherwise you might as well work by preparing images externally (e.g. by hand, or using p5js) and then loading these as we have seen earlier for the image of a four. If you take this approach, make sure you start from an image that is consistently recognizable to a human as a given number and correctly classified by the model as that same number."
   ]
  },
  {
   "cell_type": "markdown",
   "metadata": {},
   "source": [
    "## 2. Generate\n",
    "\n",
    "Here is a simple example that looks like a `0`, and usually gets classified as one."
   ]
  },
  {
   "cell_type": "code",
   "execution_count": 6,
   "metadata": {},
   "outputs": [
    {
     "data": {
      "image/png": "[encoded data removed]",
      "text/plain": [
       "<Figure size 512x512 with 1 Axes>"
      ]
     },
     "metadata": {},
     "output_type": "display_data"
    }
   ],
   "source": [
    "c = canvas.Canvas(28, 28)\n",
    "c.background(0)\n",
    "\n",
    "c.no_stroke()\n",
    "for t in np.linspace(1, 0.2, 5):\n",
    "    c.fill(255*t)\n",
    "    c.circle([c.width/2, c.height/2], 10*t)\n",
    "\n",
    "x = c.get_image_grayscale()\n",
    "\n",
    "# For a Dense net\n",
    "x = x.reshape(1, -1) # same as reshape(1, 28*28)\n",
    "\n",
    "# # For a ConvNet:\n",
    "# x = x.reshape(1, 28, 28, 1) # batch, w, h, channels\n",
    "\n",
    "predictions = model.predict(x, verbose=False)\n",
    "# Get the index in the array with highest confidence, that will be our predicted number\n",
    "predicted = np.argmax(predictions[0])\n",
    "c.show(title=f'Predicted number: {predicted}', size=(512, 512))"
   ]
  },
  {
   "cell_type": "markdown",
   "metadata": {},
   "source": [
    "This most interesting when not using the text function any more, but rather using the drawing abilities of canvas.\n",
    "\n",
    "Try different numbers!\n",
    "\n",
    "**Also**, try shapes that *really do not look like numbers* to us, and see what happens.\n",
    "\n",
    "As before, a ConvNet will probably perform better than a plain Dense net.\n",
    "\n",
    "### Note\n",
    "\n",
    "If you trained a net on FashionMNIST, you can do the same thing but with pieces of clothing! (The images must always be b&w, 28*28!)."
   ]
  },
  {
   "cell_type": "markdown",
   "metadata": {},
   "source": [
    "## Note for submissions\n",
    "\n",
    "If you want to experiment with this notebook and submit it for your weekly assignment, please create a new folder that can be run out of the box, so including `canvas.py` and your model.\n",
    "\n",
    "The folder structure should look like the following:\n",
    "```bash\n",
    "name002_mnist/\n",
    "├── canvas.py\n",
    "├── data/\n",
    "│   ├── 7.png\n",
    "│   ├── disruption.png\n",
    "│   └── ... # more data\n",
    "├── models/\n",
    "│   └── basic_mnist.keras\n",
    "└── notebook.ipynb\n",
    "```\n",
    "    \n",
    "In addition, if you generate images with p5js, make sure you also provide the relevant sketches."
   ]
  }
 ],
 "metadata": {
  "kernelspec": {
   "display_name": "Python 3 (ipykernel)",
   "language": "python",
   "name": "python3"
  },
  "language_info": {
   "codemirror_mode": {
    "name": "ipython",
    "version": 3
   },
   "file_extension": ".py",
   "mimetype": "text/x-python",
   "name": "python",
   "nbconvert_exporter": "python",
   "pygments_lexer": "ipython3",
   "version": "3.11.5"
  },
  "org": null,
  "vscode": {
   "interpreter": {
    "hash": "1c544d3133b9d8c6f36fca025551af31afa9ef134259e7064ad6be0c15e6401c"
   }
  }
 },
 "nbformat": 4,
 "nbformat_minor": 4
}
